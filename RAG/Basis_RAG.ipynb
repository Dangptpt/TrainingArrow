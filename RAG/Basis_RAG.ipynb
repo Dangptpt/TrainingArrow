{
  "cells": [
    {
      "cell_type": "code",
      "execution_count": 1,
      "metadata": {
        "id": "TrN9irgTwz7V"
      },
      "outputs": [],
      "source": [
        "import google.generativeai as genai\n",
        "from langchain.vectorstores import FAISS\n",
        "from langchain.chains.question_answering import load_qa_chain\n",
        "from langchain.text_splitter import RecursiveCharacterTextSplitter, CharacterTextSplitter\n",
        "from langchain_community.document_loaders import PyPDFLoader, DirectoryLoader\n",
        "from langchain_google_genai import ChatGoogleGenerativeAI\n",
        "from langchain.prompts import PromptTemplate\n",
        "from langchain.prompts import ChatPromptTemplate\n",
        "from langchain_community.embeddings import HuggingFaceEmbeddings\n",
        "from langchain_core.output_parsers import StrOutputParser\n",
        "from langchain_core.runnables import RunnablePassthrough"
      ]
    },
    {
      "cell_type": "code",
      "execution_count": 2,
      "metadata": {
        "colab": {
          "base_uri": "https://localhost:8080/"
        },
        "id": "LflH9Ow34Hxp",
        "outputId": "591123e5-5986-4d2e-8361-733068adaa26"
      },
      "outputs": [
        {
          "name": "stderr",
          "output_type": "stream",
          "text": [
            "d:\\Hust Study\\Intern\\Training\\.venv\\Lib\\site-packages\\langchain_core\\_api\\deprecation.py:119: LangChainDeprecationWarning: The class `HuggingFaceEmbeddings` was deprecated in LangChain 0.2.2 and will be removed in 0.3.0. An updated version of the class exists in the langchain-huggingface package and should be used instead. To use it run `pip install -U langchain-huggingface` and import as `from langchain_huggingface import HuggingFaceEmbeddings`.\n",
            "  warn_deprecated(\n",
            "No sentence-transformers model found with name VoVanPhuc/sup-SimCSE-VietNamese-phobert-base. Creating a new one with mean pooling.\n",
            "d:\\Hust Study\\Intern\\Training\\.venv\\Lib\\site-packages\\huggingface_hub\\file_download.py:1132: FutureWarning: `resume_download` is deprecated and will be removed in version 1.0.0. Downloads always resume when possible. If you want to force a new download, use `force_download=True`.\n",
            "  warnings.warn(\n"
          ]
        }
      ],
      "source": [
        "model = \"keepitreal/vietnamese-sbert\"\n",
        "embeddings = HuggingFaceEmbeddings(model_name = 'VoVanPhuc/sup-SimCSE-VietNamese-phobert-base')"
      ]
    },
    {
      "cell_type": "code",
      "execution_count": 4,
      "metadata": {
        "colab": {
          "base_uri": "https://localhost:8080/"
        },
        "id": "PxDiMbcU4Qbv",
        "outputId": "d21e6955-0cbc-4d32-e5f7-0bdc218f5e0b"
      },
      "outputs": [
        {
          "name": "stderr",
          "output_type": "stream",
          "text": [
            "Ignoring wrong pointing object 10 0 (offset 0)\n",
            "Ignoring wrong pointing object 88 0 (offset 0)\n"
          ]
        }
      ],
      "source": [
        "loader = PyPDFLoader('Data/Rule.pdf')\n",
        "document = loader.load()\n",
        "splitter = RecursiveCharacterTextSplitter(\n",
        "        chunk_size=500,\n",
        "        chunk_overlap=50,\n",
        "        )\n",
        "chunks = splitter.split_documents(document)\n",
        "vector_store = FAISS.from_documents(chunks, embedding=embeddings)\n",
        "vector_store.save_local(\"vectordb\")\n"
      ]
    },
    {
      "cell_type": "code",
      "execution_count": 24,
      "metadata": {
        "colab": {
          "base_uri": "https://localhost:8080/"
        },
        "id": "om12EX2xxENe",
        "outputId": "1a5f9d39-7cd1-40fd-fa4f-c67ba90cca22"
      },
      "outputs": [
        {
          "name": "stdout",
          "output_type": "stream",
          "text": [
            "[Document(page_content='III. Các v ấn đề sinh viên gi ải quy ết tại các Viện ................................ ...................  20 \\nIV. Góp ý, khi ếu nại, thắc mắc................................ ................................ ......................  20 \\nV. H ướng d ẫn sinh viên th ực hiện quy ch ế đào tạo ................................ ............  21 \\nVI. Cố vấn học tậ p và chủ nhiệm  lớp sinh viên  (trích)  ................................ ...... 33', metadata={'source': 'Data/STSV.pdf', 'page': 1}), Document(page_content='Quy định sinh viên cần lưu ý  ................................ ................................ .......................  11 \\nPHẦN I: NH ỮNG QUY CH Ế, QUY ĐỊNH, TH Ủ TỤC SINH VIÊN C ẦN N ẮM \\nVỮNG \\nI. Nh ững v iệc sinh viên gi ải quy ết tại phòng Đào tạo ................................ ........  13 \\nII. Nh ững vi ệc sinh viên gi ải quy ết tại phòng CTSV  ................................ ............  18', metadata={'source': 'Data/STSV.pdf', 'page': 1}), Document(page_content='3200 sinh viên các khóa còn lại thuộc diện ưu �ên được được ở nội trú.\\nĐối tượng ưu �ên sau:a) Sinh viên diện chính sách:Anh hùng lực lượng vũ trang , anh hùng lao động; Con liệt sỹ;Con thương binh, bệnh binh; Sinh viên có hộ khẩu khu vực; Sinh viên tàn tật.b) Sinh viên được ưu �ên:Các SV thủ khoa đầu vào của trường; Nữ sinh; KSTN, CLC;Sinh viên có hoàn cảnh khó khăn (hộ nghèo)Sinh viên có nhiều thành �ch trong công tác Đoàn.c) Nghiên cứu sinh và học viên cao học', metadata={'source': 'Data/STSV.pdf', 'page': 69})]\n"
          ]
        }
      ],
      "source": [
        "vectorstore = FAISS.load_local(\"vectordb\", embeddings, allow_dangerous_deserialization=True)\n",
        "\n",
        "question = \"phòng công tác sinh viên ở đâu\"\n",
        "docs = vectorstore.similarity_search(question,k=3)\n",
        "print(docs)"
      ]
    },
    {
      "cell_type": "code",
      "execution_count": 21,
      "metadata": {},
      "outputs": [
        {
          "name": "stdout",
          "output_type": "stream",
          "text": [
            "**Ode to Nature's Grace**\n",
            "\n",
            "In verdant meadows, where spring's caress,\n",
            "Paints rainbows 'cross the azure dress;\n",
            "Where wildflowers dance in vibrant hues,\n",
            "A symphony of hues, nature's muse.\n",
            "\n",
            "Beneath the spreading canopy of trees,\n",
            "Where sunlight filters through with ease;\n",
            "The rustling leaves whisper secrets old,\n",
            "A gentle lullaby, a story to unfold.\n",
            "\n",
            "By babbling brooks, where silver streams flow,\n",
            "Where pebbles shimmer, a gentle glow;\n",
            "The rippling water, a tranquil sight,\n",
            "Reflecting clouds that drift in flight.\n",
            "\n",
            "At twilight's hour, as day surrenders,\n",
            "The sky ablaze with golden embers;\n",
            "The moon ascends, a celestial glow,\n",
            "Casting its spell on all below.\n",
            "\n",
            "In mountains grand, where peaks pierce the sky,\n",
            "Jagged summits reaching for the nigh;\n",
            "Majestic eagles soar with wings unfurled,\n",
            "A testament to nature's wondrous world.\n",
            "\n",
            "From rolling hills to oceans wide,\n",
            "Nature's splendor knows no divide;\n",
            "In every nook and hidden place,\n",
            "A tapestry of beauty, a gift to embrace.\n",
            "\n",
            "So let us cherish this precious earth,\n",
            "Its vibrant colors, its songs of mirth;\n",
            "For in its beauty, we find our peace,\n",
            "A sanctuary where our spirits crease.\n"
          ]
        }
      ],
      "source": [
        "import os\n",
        "genai.configure(api_key=os.environ['GOOGLE_API_KEY'])\n",
        " \n",
        "safety_settings = [\n",
        "  {\n",
        "    \"category\": \"HARM_CATEGORY_HARASSMENT\",\n",
        "    \"threshold\": \"BLOCK_MEDIUM_AND_ABOVE\"\n",
        "  },\n",
        "  {\n",
        "    \"category\": \"HARM_CATEGORY_HATE_SPEECH\",\n",
        "    \"threshold\": \"BLOCK_MEDIUM_AND_ABOVE\"\n",
        "  },\n",
        "  {\n",
        "    \"category\": \"HARM_CATEGORY_SEXUALLY_EXPLICIT\",\n",
        "    \"threshold\": \"BLOCK_MEDIUM_AND_ABOVE\"\n",
        "  },\n",
        "  {\n",
        "    \"category\": \"HARM_CATEGORY_DANGEROUS_CONTENT\",\n",
        "    \"threshold\": \"BLOCK_MEDIUM_AND_ABOVE\"\n",
        "  }\n",
        "]\n",
        "model = genai.GenerativeModel(model_name='gemini-pro', safety_settings=safety_settings)\n",
        "\n",
        "prompt_parts = [\n",
        "  \"Write a poetry about the beauty of nature\"\n",
        "]\n",
        "respone = model.generate_content(prompt_parts)\n",
        "print(respone.text)"
      ]
    },
    {
      "cell_type": "code",
      "execution_count": 28,
      "metadata": {
        "colab": {
          "base_uri": "https://localhost:8080/",
          "height": 110
        },
        "id": "dHu1Qf3759Bn",
        "outputId": "71ba02ce-9ff7-4035-f686-5a9a287979a3"
      },
      "outputs": [
        {
          "name": "stdout",
          "output_type": "stream",
          "text": [
            "Tôi không biết thông tin đó.\n"
          ]
        }
      ],
      "source": [
        "def format_docs(docs):\n",
        "    return \"\\n\\n\".join(doc.page_content for doc in docs)\n",
        "\n",
        "def gennerate(question):\n",
        "    retriever = vectorstore.as_retriever(search_type=\"mmr\", search_kwargs={\"k\": 5})\n",
        "\n",
        "    docs = retriever.get_relevant_documents(question)\n",
        "    context = format_docs(docs)\n",
        "    prompt = f\"\"\"\n",
        "    Bạn là trợ lý cho các nhiệm vụ trả lời câu hỏi, hãy trả lời bằng tiếng Việt, lịch sự và thân thiện.\n",
        "    Hãy trả lời câu hỏi dựa trên dữ liệu có trong đoạn ngữ cảnh\n",
        "    Hãy trả lời không biết nêu không có thông tin trong đoạn ngữ cảnh\n",
        "\n",
        "    Đoạn ngữ cảnh: {context}\n",
        "\n",
        "    Câu hỏi: {question}\n",
        "    \"\"\"\n",
        "    return model.generate_content(prompt).text\n",
        "\n",
        "print(gennerate(\"Phòng đào tạo là đơn vị nào\"))"
      ]
    },
    {
      "cell_type": "code",
      "execution_count": 9,
      "metadata": {
        "colab": {
          "base_uri": "https://localhost:8080/",
          "height": 650
        },
        "id": "btDXdPQZ-jHH",
        "outputId": "59dec79e-261c-4330-a6f5-e462735c8c53"
      },
      "outputs": [
        {
          "name": "stdout",
          "output_type": "stream",
          "text": [
            "Running on local URL:  http://127.0.0.1:7861\n",
            "\n",
            "To create a public link, set `share=True` in `launch()`.\n"
          ]
        },
        {
          "data": {
            "text/html": [
              "<div><iframe src=\"http://127.0.0.1:7861/\" width=\"100%\" height=\"500\" allow=\"autoplay; camera; microphone; clipboard-read; clipboard-write;\" frameborder=\"0\" allowfullscreen></iframe></div>"
            ],
            "text/plain": [
              "<IPython.core.display.HTML object>"
            ]
          },
          "metadata": {},
          "output_type": "display_data"
        }
      ],
      "source": [
        "import gradio as gr\n",
        "import random\n",
        "import time\n",
        "\n",
        "with gr.Blocks() as demo:\n",
        "    chatbot = gr.Chatbot(height=700)\n",
        "    msg = gr.Textbox()\n",
        "    clear = gr.ClearButton([msg, chatbot])\n",
        "\n",
        "    def respond(message, chat_history):\n",
        "        bot_message = gennerate(message)\n",
        "        chat_history.append((message, bot_message))\n",
        "        return \"\", chat_history\n",
        "\n",
        "    msg.submit(respond, [msg, chatbot], [msg, chatbot])\n",
        "\n",
        "if __name__ == \"__main__\":\n",
        "    demo.launch()"
      ]
    }
  ],
  "metadata": {
    "colab": {
      "provenance": []
    },
    "kernelspec": {
      "display_name": "Python 3",
      "name": "python3"
    },
    "language_info": {
      "codemirror_mode": {
        "name": "ipython",
        "version": 3
      },
      "file_extension": ".py",
      "mimetype": "text/x-python",
      "name": "python",
      "nbconvert_exporter": "python",
      "pygments_lexer": "ipython3",
      "version": "3.11.3"
    }
  },
  "nbformat": 4,
  "nbformat_minor": 0
}
