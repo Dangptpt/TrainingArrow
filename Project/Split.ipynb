{
 "cells": [
  {
   "cell_type": "code",
   "execution_count": 2,
   "metadata": {},
   "outputs": [
    {
     "name": "stdout",
     "output_type": "stream",
     "text": [
      "(7442, 10525, 3)\n"
     ]
    },
    {
     "data": {
      "text/plain": [
       "array([[[255, 255, 255],\n",
       "        [255, 255, 255],\n",
       "        [255, 255, 255],\n",
       "        ...,\n",
       "        [255, 255, 255],\n",
       "        [255, 255, 255],\n",
       "        [255, 255, 255]],\n",
       "\n",
       "       [[255, 255, 255],\n",
       "        [255, 255, 255],\n",
       "        [255, 255, 255],\n",
       "        ...,\n",
       "        [255, 255, 255],\n",
       "        [255, 255, 255],\n",
       "        [255, 255, 255]],\n",
       "\n",
       "       [[255, 255, 255],\n",
       "        [255, 255, 255],\n",
       "        [255, 255, 255],\n",
       "        ...,\n",
       "        [255, 255, 255],\n",
       "        [255, 255, 255],\n",
       "        [255, 255, 255]],\n",
       "\n",
       "       ...,\n",
       "\n",
       "       [[255, 255, 255],\n",
       "        [255, 255, 255],\n",
       "        [255, 255, 255],\n",
       "        ...,\n",
       "        [255, 255, 255],\n",
       "        [255, 255, 255],\n",
       "        [255, 255, 255]],\n",
       "\n",
       "       [[255, 255, 255],\n",
       "        [255, 255, 255],\n",
       "        [255, 255, 255],\n",
       "        ...,\n",
       "        [255, 255, 255],\n",
       "        [255, 255, 255],\n",
       "        [255, 255, 255]],\n",
       "\n",
       "       [[255, 255, 255],\n",
       "        [255, 255, 255],\n",
       "        [255, 255, 255],\n",
       "        ...,\n",
       "        [255, 255, 255],\n",
       "        [255, 255, 255],\n",
       "        [255, 255, 255]]], dtype=uint8)"
      ]
     },
     "execution_count": 2,
     "metadata": {},
     "output_type": "execute_result"
    }
   ],
   "source": [
    "import cv2\n",
    "import imutils\n",
    "import matplotlib.pyplot as plt\n",
    "\n",
    "image = cv2.imread('Img/page_1.jpg')\n",
    "print(image.shape)\n",
    "gray = cv2.cvtColor(image, cv2.COLOR_BGR2GRAY)\n",
    "\n",
    "_, thresh = cv2.threshold(gray, 150, 255, cv2.THRESH_BINARY_INV + cv2.THRESH_OTSU)\n",
    "contours, _ = cv2.findContours(thresh, cv2.RETR_EXTERNAL, cv2.CHAIN_APPROX_SIMPLE)\n",
    "max_contour = max(contours, key=cv2.contourArea)\n",
    "cv2.drawContours(image, [max_contour], -1, (0, 255, 0), 3)"
   ]
  },
  {
   "cell_type": "code",
   "execution_count": 6,
   "metadata": {},
   "outputs": [
    {
     "name": "stdout",
     "output_type": "stream",
     "text": [
      "Saved Img/cell_1.png\n",
      "Saved Img/cell_2.png\n",
      "Saved Img/cell_3.png\n",
      "Saved Img/cell_4.png\n",
      "Saved Img/cell_5.png\n",
      "Saved Img/cell_6.png\n",
      "Saved Img/cell_7.png\n",
      "Saved Img/cell_8.png\n",
      "Saved Img/cell_9.png\n",
      "Saved Img/cell_10.png\n",
      "Saved Img/cell_11.png\n",
      "Saved Img/cell_12.png\n",
      "Saved Img/cell_13.png\n"
     ]
    }
   ],
   "source": [
    "import cv2\n",
    "import matplotlib.pyplot as plt\n",
    "\n",
    "img = cv2.imread('Img/page_1.jpg')\n",
    "gray = cv2.cvtColor(img, cv2.COLOR_BGR2GRAY)\n",
    "_, thres = cv2.threshold(gray, 150, 255, cv2.THRESH_BINARY_INV + cv2.THRESH_OTSU)\n",
    "\n",
    "contours, _ = cv2.findContours(thres, cv2.RETR_LIST, cv2.CHAIN_APPROX_SIMPLE)\n",
    "\n",
    "h_1, w_1, _ = img.shape\n",
    "i = 0\n",
    "\n",
    "for c in contours:\n",
    "    if cv2.contourArea(c) > h_1 * w_1 / 50:\n",
    "        (x, y, w, h) = cv2.boundingRect(c)\n",
    "        # cv2.rectangle(img, (x, y), (x + w, y + h), (255, 0, 0), 15)\n",
    "\n",
    "        # Hiển thị ảnh gốc với các hộp giới hạn tô đỏ\n",
    "        # plt.figure(figsize=(5, 5))\n",
    "        # plt.imshow(cv2.cvtColor(img, cv2.COLOR_BGR2RGB))\n",
    "        # plt.axis('off')\n",
    "        # plt.show()\n",
    "\n",
    "        # Cắt và hiển thị từng ô đã được tô màu đỏ\n",
    "        cell_image = img[y:y+h, x:x+w]\n",
    "        # plt.figure(figsize=(5, 5))\n",
    "        # plt.imshow(cv2.cvtColor(cell_image, cv2.COLOR_BGR2RGB))\n",
    "        # plt.axis('off')\n",
    "        # plt.show()\n",
    "\n",
    "        # Lưu từng ô đã cắt ra\n",
    "        output_path = f'Img/cell_{i + 1}.png'\n",
    "        cv2.imwrite(output_path, cell_image)\n",
    "        print(f\"Saved {output_path}\")\n",
    "        i += 1"
   ]
  },
  {
   "cell_type": "code",
   "execution_count": null,
   "metadata": {},
   "outputs": [],
   "source": []
  }
 ],
 "metadata": {
  "kernelspec": {
   "display_name": ".venv",
   "language": "python",
   "name": "python3"
  },
  "language_info": {
   "codemirror_mode": {
    "name": "ipython",
    "version": 3
   },
   "file_extension": ".py",
   "mimetype": "text/x-python",
   "name": "python",
   "nbconvert_exporter": "python",
   "pygments_lexer": "ipython3",
   "version": "3.11.3"
  }
 },
 "nbformat": 4,
 "nbformat_minor": 2
}
